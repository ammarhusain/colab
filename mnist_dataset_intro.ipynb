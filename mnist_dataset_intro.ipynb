{
  "nbformat": 4,
  "nbformat_minor": 0,
  "metadata": {
    "kernelspec": {
      "display_name": "Python 2",
      "language": "python",
      "name": "python2"
    },
    "language_info": {
      "codemirror_mode": {
        "name": "ipython",
        "version": 2
      },
      "file_extension": ".py",
      "mimetype": "text/x-python",
      "name": "python",
      "nbconvert_exporter": "python",
      "pygments_lexer": "ipython2",
      "version": "2.7.13"
    },
    "colab": {
      "name": "mnist_dataset_intro.ipynb",
      "provenance": [],
      "include_colab_link": true
    }
  },
  "cells": [
    {
      "cell_type": "markdown",
      "metadata": {
        "id": "view-in-github",
        "colab_type": "text"
      },
      "source": [
        "<a href=\"https://colab.research.google.com/github/ammarhusain/colab-sandbox/blob/master/mnist_dataset_intro.ipynb\" target=\"_parent\"><img src=\"https://colab.research.google.com/assets/colab-badge.svg\" alt=\"Open In Colab\"/></a>"
      ]
    },
    {
      "cell_type": "markdown",
      "metadata": {
        "id": "Ei1IdOzvq8hx",
        "colab_type": "text"
      },
      "source": [
        "\n",
        "# MNIST Dataset Introduction\n",
        "\n",
        "Most examples are using MNIST dataset of handwritten digits. The dataset contains 60,000 examples for training and 10,000 examples for testing. The digits have been size-normalized and centered in a fixed-size image (28x28 pixels) with values from 0 to 1. For simplicity, each image has been flatten and converted to a 1-D numpy array of 784 features (28*28).\n",
        "\n",
        "## Overview\n",
        "\n",
        "![MNIST Digits](http://neuralnetworksanddeeplearning.com/images/mnist_100_digits.png)\n",
        "\n",
        "## Usage\n",
        "In our examples, we are using TensorFlow [input_data.py](https://github.com/tensorflow/tensorflow/blob/r0.7/tensorflow/examples/tutorials/mnist/input_data.py) script to load that dataset.\n",
        "It is quite useful for managing our data, and handle:\n",
        "\n",
        "- Dataset downloading\n",
        "\n",
        "- Loading the entire dataset into numpy array: \n",
        "\n",
        "\n"
      ]
    },
    {
      "cell_type": "code",
      "metadata": {
        "id": "pYUAIE4qpzMO",
        "colab_type": "code",
        "colab": {}
      },
      "source": [
        "# Import MNIST\n",
        "from tensorflow.examples.tutorials.mnist import input_data\n",
        "mnist = input_data.read_data_sets(\"/tmp/data/\", one_hot=True)\n",
        "\n",
        "# Load data\n",
        "X_train = mnist.train.images\n",
        "Y_train = mnist.train.labels\n",
        "X_test = mnist.test.images\n",
        "Y_test = mnist.test.labels"
      ],
      "execution_count": 0,
      "outputs": []
    },
    {
      "cell_type": "markdown",
      "metadata": {
        "id": "oDT8upOtpzMR",
        "colab_type": "text"
      },
      "source": [
        "- A `next_batch` function that can iterate over the whole dataset and return only the desired fraction of the dataset samples (in order to save memory and avoid to load the entire dataset)."
      ]
    },
    {
      "cell_type": "code",
      "metadata": {
        "id": "JhCSF-X0pzMS",
        "colab_type": "code",
        "colab": {}
      },
      "source": [
        "# Get the next 64 images array and labels\n",
        "batch_X, batch_Y = mnist.train.next_batch(64)"
      ],
      "execution_count": 0,
      "outputs": []
    },
    {
      "cell_type": "markdown",
      "metadata": {
        "id": "ZIiF0UZtpzMV",
        "colab_type": "text"
      },
      "source": [
        "Link: http://yann.lecun.com/exdb/mnist/"
      ]
    }
  ]
}