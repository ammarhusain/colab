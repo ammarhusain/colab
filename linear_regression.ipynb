{
  "nbformat": 4,
  "nbformat_minor": 0,
  "metadata": {
    "kernelspec": {
      "display_name": "Python 2",
      "language": "python",
      "name": "python2"
    },
    "language_info": {
      "codemirror_mode": {
        "name": "ipython",
        "version": 2
      },
      "file_extension": ".py",
      "mimetype": "text/x-python",
      "name": "python",
      "nbconvert_exporter": "python",
      "pygments_lexer": "ipython2",
      "version": "2.7.15"
    },
    "colab": {
      "name": "linear_regression.ipynb",
      "provenance": [],
      "include_colab_link": true
    }
  },
  "cells": [
    {
      "cell_type": "markdown",
      "metadata": {
        "id": "view-in-github",
        "colab_type": "text"
      },
      "source": [
        "<a href=\"https://colab.research.google.com/github/ammarhusain/colab-sandbox/blob/master/linear_regression.ipynb\" target=\"_parent\"><img src=\"https://colab.research.google.com/assets/colab-badge.svg\" alt=\"Open In Colab\"/></a>"
      ]
    },
    {
      "cell_type": "markdown",
      "metadata": {
        "id": "W2IMb_9JA32M",
        "colab_type": "text"
      },
      "source": [
        "# Linear Regression Example\n",
        "\n",
        "Linear regression implementation with TensorFlow v2 library.\n",
        "\n",
        "This example is using a low-level approach to better understand all mechanics behind the training process.\n",
        "\n"
      ]
    },
    {
      "cell_type": "code",
      "metadata": {
        "id": "DNo8iqT1A32X",
        "colab_type": "code",
        "colab": {}
      },
      "source": [
        "from __future__ import absolute_import, division, print_function"
      ],
      "execution_count": 0,
      "outputs": []
    },
    {
      "cell_type": "code",
      "metadata": {
        "id": "Ss_IaG_eA32r",
        "colab_type": "code",
        "colab": {
          "base_uri": "https://localhost:8080/",
          "height": 64
        },
        "outputId": "c2984885-d9d4-41ee-b2ac-9c6bdc6aa36b"
      },
      "source": [
        "import tensorflow as tf\n",
        "import numpy as np\n",
        "rng = np.random\n",
        "tf.enable_eager_execution()\n"
      ],
      "execution_count": 2,
      "outputs": [
        {
          "output_type": "display_data",
          "data": {
            "text/plain": [
              "<IPython.core.display.HTML object>"
            ],
            "text/html": [
              "<p style=\"color: red;\">\n",
              "The default version of TensorFlow in Colab will soon switch to TensorFlow 2.x.<br>\n",
              "We recommend you <a href=\"https://www.tensorflow.org/guide/migrate\" target=\"_blank\">upgrade</a> now \n",
              "or ensure your notebook will continue to use TensorFlow 1.x via the <code>%tensorflow_version 1.x</code> magic:\n",
              "<a href=\"https://colab.research.google.com/notebooks/tensorflow_version.ipynb\" target=\"_blank\">more info</a>.</p>\n"
            ]
          },
          "metadata": {
            "tags": []
          }
        }
      ]
    },
    {
      "cell_type": "code",
      "metadata": {
        "id": "9I5HA29hA328",
        "colab_type": "code",
        "colab": {}
      },
      "source": [
        "# Parameters.\n",
        "learning_rate = 0.01\n",
        "training_steps = 1000\n",
        "display_step = 50"
      ],
      "execution_count": 0,
      "outputs": []
    },
    {
      "cell_type": "code",
      "metadata": {
        "id": "CbBJUnsNA33I",
        "colab_type": "code",
        "outputId": "0ff7a54c-26d9-46f3-b7ca-cc27333673a0",
        "colab": {
          "base_uri": "https://localhost:8080/",
          "height": 35
        }
      },
      "source": [
        "# Training Data.\n",
        "X = np.array([3.3,4.4,5.5,6.71,6.93,4.168,9.779,6.182,7.59,2.167,\n",
        "              7.042,10.791,5.313,7.997,5.654,9.27,3.1])\n",
        "Y = np.array([1.7,2.76,2.09,3.19,1.694,1.573,3.366,2.596,2.53,1.221,\n",
        "              2.827,3.465,1.65,2.904,2.42,2.94,1.3])\n",
        "n_samples = X.shape[0]\n",
        "print(X.shape)"
      ],
      "execution_count": 4,
      "outputs": [
        {
          "output_type": "stream",
          "text": [
            "(17,)\n"
          ],
          "name": "stdout"
        }
      ]
    },
    {
      "cell_type": "code",
      "metadata": {
        "id": "5r7RQpfNA33O",
        "colab_type": "code",
        "outputId": "6ee557a6-9b57-4041-b80b-e883d3e5ee18",
        "colab": {
          "base_uri": "https://localhost:8080/",
          "height": 35
        }
      },
      "source": [
        "# Weight and Bias, initialized randomly.\n",
        "W = tf.Variable(rng.randn(), name=\"weight\")\n",
        "b = tf.Variable(rng.randn(), name=\"bias\")\n",
        "print(W)\n",
        "# Linear regression (Wx + b).\n",
        "def linear_regression(x):\n",
        "    return W * x + b\n",
        "\n",
        "# Mean square error.\n",
        "def mean_square(y_pred, y_true):\n",
        "    return tf.reduce_sum(tf.pow(y_pred-y_true, 2)) / (2 * n_samples)\n",
        "\n",
        "# Stochastic Gradient Descent Optimizer.\n",
        "#! optimizer = tf.optimizers.SGD(learning_rate)\n",
        "optimizer = tf.train.GradientDescentOptimizer(learning_rate)"
      ],
      "execution_count": 5,
      "outputs": [
        {
          "output_type": "stream",
          "text": [
            "<tf.Variable 'weight:0' shape=() dtype=float32, numpy=-2.0247376>\n"
          ],
          "name": "stdout"
        }
      ]
    },
    {
      "cell_type": "code",
      "metadata": {
        "id": "VzGdcoC-A33U",
        "colab_type": "code",
        "colab": {}
      },
      "source": [
        "# Optimization process. \n",
        "def run_optimization():\n",
        "    # Wrap computation inside a GradientTape for automatic differentiation.\n",
        "    with tf.GradientTape() as g:\n",
        "        pred = linear_regression(X)\n",
        "        loss = mean_square(pred, Y)\n",
        "        # Compute gradients.\n",
        "        gradients = g.gradient(loss, [W, b])\n",
        "    \n",
        "    # Update W and b following gradients.\n",
        "    optimizer.apply_gradients(zip(gradients, [W, b]))\n",
        "\n",
        "run_optimization()  "
      ],
      "execution_count": 0,
      "outputs": []
    },
    {
      "cell_type": "code",
      "metadata": {
        "id": "RQdJovZZA33Y",
        "colab_type": "code",
        "outputId": "bfedbced-a681-46c2-9e13-463be6d605a6",
        "colab": {
          "base_uri": "https://localhost:8080/",
          "height": 373
        }
      },
      "source": [
        "# Run training for the given number of steps.\n",
        "for step in range(1, training_steps + 1):\n",
        "    # Run the optimization to update W and b values.\n",
        "    run_optimization()\n",
        "    \n",
        "    if step % display_step == 0:\n",
        "        pred = linear_regression(X)\n",
        "        loss = mean_square(pred, Y)\n",
        "        print(\"step: %i, loss: %f, W: %f, b: %f\" % (step, loss, W.numpy(), b.numpy()))"
      ],
      "execution_count": 7,
      "outputs": [
        {
          "output_type": "stream",
          "text": [
            "step: 50, loss: 0.274320, W: 0.503521, b: -0.986955\n",
            "step: 100, loss: 0.251744, W: 0.488679, b: -0.881736\n",
            "step: 150, loss: 0.231750, W: 0.474712, b: -0.782717\n",
            "step: 200, loss: 0.214043, W: 0.461568, b: -0.689532\n",
            "step: 250, loss: 0.198362, W: 0.449199, b: -0.601838\n",
            "step: 300, loss: 0.184473, W: 0.437558, b: -0.519311\n",
            "step: 350, loss: 0.172173, W: 0.426603, b: -0.441646\n",
            "step: 400, loss: 0.161280, W: 0.416294, b: -0.368558\n",
            "step: 450, loss: 0.151633, W: 0.406592, b: -0.299776\n",
            "step: 500, loss: 0.143089, W: 0.397462, b: -0.235046\n",
            "step: 550, loss: 0.135522, W: 0.388870, b: -0.174131\n",
            "step: 600, loss: 0.128821, W: 0.380784, b: -0.116805\n",
            "step: 650, loss: 0.122886, W: 0.373174, b: -0.062856\n",
            "step: 700, loss: 0.117630, W: 0.366013, b: -0.012086\n",
            "step: 750, loss: 0.112975, W: 0.359274, b: 0.035692\n",
            "step: 800, loss: 0.108852, W: 0.352931, b: 0.080655\n",
            "step: 850, loss: 0.105201, W: 0.346963, b: 0.122969\n",
            "step: 900, loss: 0.101968, W: 0.341346, b: 0.162790\n",
            "step: 950, loss: 0.099104, W: 0.336060, b: 0.200265\n",
            "step: 1000, loss: 0.096568, W: 0.331086, b: 0.235531\n"
          ],
          "name": "stdout"
        }
      ]
    },
    {
      "cell_type": "code",
      "metadata": {
        "id": "izZwCl4IA33e",
        "colab_type": "code",
        "colab": {}
      },
      "source": [
        "import matplotlib.pyplot as plt"
      ],
      "execution_count": 0,
      "outputs": []
    },
    {
      "cell_type": "code",
      "metadata": {
        "id": "AgghAqhbA33h",
        "colab_type": "code",
        "outputId": "1615e16d-0b7d-4175-b4f9-f37fa433276e",
        "colab": {
          "base_uri": "https://localhost:8080/",
          "height": 286
        }
      },
      "source": [
        "# Graphic display\n",
        "print (b)\n",
        "plt.plot(X, Y, 'ro', label='Original data')\n",
        "plt.plot(X, np.array(W * X + b), label='Fitted line')\n",
        "plt.legend()\n",
        "plt.show()"
      ],
      "execution_count": 11,
      "outputs": [
        {
          "output_type": "stream",
          "text": [
            "<tf.Variable 'bias:0' shape=() dtype=float32, numpy=0.235531>\n"
          ],
          "name": "stdout"
        },
        {
          "output_type": "display_data",
          "data": {
            "image/png": "[encoded data removed]",
            "text/plain": [
              "<Figure size 432x288 with 1 Axes>"
            ]
          },
          "metadata": {
            "tags": []
          }
        }
      ]
    }
  ]
}