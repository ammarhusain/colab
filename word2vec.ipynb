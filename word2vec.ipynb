{
  "nbformat": 4,
  "nbformat_minor": 0,
  "metadata": {
    "kernelspec": {
      "display_name": "Python 2",
      "language": "python",
      "name": "python2"
    },
    "language_info": {
      "codemirror_mode": {
        "name": "ipython",
        "version": 2
      },
      "file_extension": ".py",
      "mimetype": "text/x-python",
      "name": "python",
      "nbconvert_exporter": "python",
      "pygments_lexer": "ipython2",
      "version": "2.7.15"
    },
    "colab": {
      "name": "word2vec.ipynb",
      "provenance": [],
      "collapsed_sections": [],
      "include_colab_link": true
    }
  },
  "cells": [
    {
      "cell_type": "markdown",
      "metadata": {
        "id": "view-in-github",
        "colab_type": "text"
      },
      "source": [
        "<a href=\"https://colab.research.google.com/github/ammarhusain/colab-sandbox/blob/master/word2vec.ipynb\" target=\"_parent\"><img src=\"https://colab.research.google.com/assets/colab-badge.svg\" alt=\"Open In Colab\"/></a>"
      ]
    },
    {
      "cell_type": "markdown",
      "metadata": {
        "id": "daD0FgUS_brg",
        "colab_type": "text"
      },
      "source": [
        "# Word2Vec (Word Embedding)\n",
        "\n",
        "Implement Word2Vec algorithm to compute vector representations of words, with TensorFlow 2.0. This example is using a small chunk of Wikipedia articles to train from.\n",
        "\n",
        "More info: [Mikolov, Tomas et al. \"Efficient Estimation of Word Representations in Vector Space.\", 2013](https://arxiv.org/pdf/1301.3781.pdf)\n"
      ]
    },
    {
      "cell_type": "code",
      "metadata": {
        "id": "d7vhREO__brn",
        "colab_type": "code",
        "colab": {
          "base_uri": "https://localhost:8080/",
          "height": 64
        },
        "outputId": "d4e888fb-df21-429d-9588-fb0b65c19fc9"
      },
      "source": [
        "from __future__ import division, print_function, absolute_import\n",
        "\n",
        "import collections\n",
        "import os\n",
        "import random\n",
        "import urllib\n",
        "import zipfile\n",
        "\n",
        "import numpy as np\n",
        "import tensorflow as tf\n",
        "\n",
        "tf.enable_eager_execution()"
      ],
      "execution_count": 1,
      "outputs": [
        {
          "output_type": "display_data",
          "data": {
            "text/plain": [
              "<IPython.core.display.HTML object>"
            ],
            "text/html": [
              "<p style=\"color: red;\">\n",
              "The default version of TensorFlow in Colab will soon switch to TensorFlow 2.x.<br>\n",
              "We recommend you <a href=\"https://www.tensorflow.org/guide/migrate\" target=\"_blank\">upgrade</a> now \n",
              "or ensure your notebook will continue to use TensorFlow 1.x via the <code>%tensorflow_version 1.x</code> magic:\n",
              "<a href=\"https://colab.research.google.com/notebooks/tensorflow_version.ipynb\" target=\"_blank\">more info</a>.</p>\n"
            ]
          },
          "metadata": {
            "tags": []
          }
        }
      ]
    },
    {
      "cell_type": "code",
      "metadata": {
        "id": "YdWqFse9_brs",
        "colab_type": "code",
        "colab": {}
      },
      "source": [
        "# Training Parameters.\n",
        "learning_rate = 0.1\n",
        "batch_size = 128\n",
        "num_steps = 3000000\n",
        "display_step = 10000\n",
        "eval_step = 200000\n",
        "\n",
        "# Evaluation Parameters.\n",
        "eval_words = ['five', 'of', 'going', 'hardware', 'american', 'britain']\n",
        "\n",
        "# Word2Vec Parameters.\n",
        "embedding_size = 200 # Dimension of the embedding vector.\n",
        "max_vocabulary_size = 50000 # Total number of different words in the vocabulary.\n",
        "min_occurrence = 10 # Remove all words that does not appears at least n times.\n",
        "skip_window = 3 # How many words to consider left and right.\n",
        "num_skips = 2 # How many times to reuse an input to generate a label.\n",
        "num_sampled = 64 # Number of negative examples to sample."
      ],
      "execution_count": 0,
      "outputs": []
    },
    {
      "cell_type": "code",
      "metadata": {
        "id": "S_APx3xO_brw",
        "colab_type": "code",
        "colab": {}
      },
      "source": [
        "# Download a small chunk of Wikipedia articles collection.\n",
        "url = 'http://mattmahoney.net/dc/text8.zip'\n",
        "data_path = 'text8.zip'\n",
        "if not os.path.exists(data_path):\n",
        "    print(\"Downloading the dataset... (It may take some time)\")\n",
        "    filename, _ = urllib.urlretrieve(url, data_path)\n",
        "    print(\"Done!\")\n",
        "# Unzip the dataset file. Text has already been processed.\n",
        "with zipfile.ZipFile(data_path) as f:\n",
        "    text_words = f.read(f.namelist()[0]).lower().split()"
      ],
      "execution_count": 0,
      "outputs": []
    },
    {
      "cell_type": "code",
      "metadata": {
        "id": "cQPnzkaT_br3",
        "colab_type": "code",
        "outputId": "88a2dea1-4bac-4a48-b05c-0cfe6b512037",
        "colab": {
          "base_uri": "https://localhost:8080/",
          "height": 108
        }
      },
      "source": [
        "# Build the dictionary and replace rare words with UNK token.\n",
        "count = [('UNK', -1)]\n",
        "# Retrieve the most common words.\n",
        "count.extend(collections.Counter(text_words).most_common(max_vocabulary_size - 1))\n",
        "# Remove samples with less than 'min_occurrence' occurrences.\n",
        "for i in range(len(count) - 1, -1, -1):\n",
        "    if count[i][1] < min_occurrence:\n",
        "        count.pop(i)\n",
        "    else:\n",
        "        # The collection is ordered, so stop when 'min_occurrence' is reached.\n",
        "        break\n",
        "# Compute the vocabulary size.\n",
        "vocabulary_size = len(count)\n",
        "# Assign an id to each word.\n",
        "word2id = dict()\n",
        "for i, (word, _)in enumerate(count):\n",
        "    word2id[word] = i\n",
        "\n",
        "data = list()\n",
        "unk_count = 0\n",
        "for word in text_words:\n",
        "    # Retrieve a word id, or assign it index 0 ('UNK') if not in dictionary.\n",
        "    index = word2id.get(word, 0)\n",
        "    if index == 0:\n",
        "        unk_count += 1\n",
        "    data.append(index)\n",
        "count[0] = ('UNK', unk_count)\n",
        "id2word = dict(zip(word2id.values(), word2id.keys()))\n",
        "\n",
        "print(\"Words count:\", len(text_words))\n",
        "print(\"Unique words:\", len(set(text_words)))\n",
        "print(\"Vocabulary size:\", vocabulary_size)\n",
        "print(\"Most common words:\", count[:10])"
      ],
      "execution_count": 4,
      "outputs": [
        {
          "output_type": "stream",
          "text": [
            "Words count: 17005207\n",
            "Unique words: 253854\n",
            "Vocabulary size: 47135\n",
            "Most common words: [('UNK', 444176), ('the', 1061396), ('of', 593677), ('and', 416629), ('one', 411764), ('in', 372201), ('a', 325873), ('to', 316376), ('zero', 264975), ('nine', 250430)]\n"
          ],
          "name": "stdout"
        }
      ]
    },
    {
      "cell_type": "code",
      "metadata": {
        "id": "JI5zsYpQ_br9",
        "colab_type": "code",
        "colab": {}
      },
      "source": [
        "data_index = 0\n",
        "# Generate training batch for the skip-gram model.\n",
        "def next_batch(batch_size, num_skips, skip_window):\n",
        "    global data_index\n",
        "    assert batch_size % num_skips == 0\n",
        "    assert num_skips <= 2 * skip_window\n",
        "    batch = np.ndarray(shape=(batch_size), dtype=np.int32)\n",
        "    labels = np.ndarray(shape=(batch_size, 1), dtype=np.int32)\n",
        "    # get window size (words left and right + current one).\n",
        "    span = 2 * skip_window + 1\n",
        "    buffer = collections.deque(maxlen=span)\n",
        "    if data_index + span > len(data):\n",
        "        data_index = 0\n",
        "    buffer.extend(data[data_index:data_index + span])\n",
        "    data_index += span\n",
        "    for i in range(batch_size // num_skips):\n",
        "        context_words = [w for w in range(span) if w != skip_window]\n",
        "        words_to_use = random.sample(context_words, num_skips)\n",
        "        for j, context_word in enumerate(words_to_use):\n",
        "            batch[i * num_skips + j] = buffer[skip_window]\n",
        "            labels[i * num_skips + j, 0] = buffer[context_word]\n",
        "        if data_index == len(data):\n",
        "            buffer.extend(data[0:span])\n",
        "            data_index = span\n",
        "        else:\n",
        "            buffer.append(data[data_index])\n",
        "            data_index += 1\n",
        "    # Backtrack a little bit to avoid skipping words in the end of a batch.\n",
        "    data_index = (data_index + len(data) - span) % len(data)\n",
        "    return batch, labels"
      ],
      "execution_count": 0,
      "outputs": []
    },
    {
      "cell_type": "code",
      "metadata": {
        "id": "DrEhko3V_bsC",
        "colab_type": "code",
        "colab": {}
      },
      "source": [
        "# Ensure the following ops & var are assigned on CPU\n",
        "# (some ops are not compatible on GPU).\n",
        "with tf.device('/cpu:0'):\n",
        "    # Create the embedding variable (each row represent a word embedding vector).\n",
        "    embedding = tf.Variable(tf.random.normal([vocabulary_size, embedding_size]))\n",
        "    # Construct the variables for the NCE loss.\n",
        "    nce_weights = tf.Variable(tf.random.normal([vocabulary_size, embedding_size]))\n",
        "    nce_biases = tf.Variable(tf.zeros([vocabulary_size]))\n",
        "\n",
        "def get_embedding(x):\n",
        "    with tf.device('/cpu:0'):\n",
        "        # Lookup the corresponding embedding vectors for each sample in X.\n",
        "        x_embed = tf.nn.embedding_lookup(embedding, x)\n",
        "        return x_embed\n",
        "\n",
        "def nce_loss(x_embed, y):\n",
        "    with tf.device('/cpu:0'):\n",
        "        # Compute the average NCE loss for the batch.\n",
        "        y = tf.cast(y, tf.int64)\n",
        "        loss = tf.reduce_mean(\n",
        "            tf.nn.nce_loss(weights=nce_weights,\n",
        "                           biases=nce_biases,\n",
        "                           labels=y,\n",
        "                           inputs=x_embed,\n",
        "                           num_sampled=num_sampled,\n",
        "                           num_classes=vocabulary_size))\n",
        "        return loss\n",
        "\n",
        "# Evaluation.\n",
        "def evaluate(x_embed):\n",
        "    with tf.device('/cpu:0'):\n",
        "        # Compute the cosine similarity between input data embedding and every embedding vectors\n",
        "        x_embed = tf.cast(x_embed, tf.float32)\n",
        "        x_embed_norm = x_embed / tf.sqrt(tf.reduce_sum(tf.square(x_embed)))\n",
        "        embedding_norm = embedding / tf.sqrt(tf.reduce_sum(tf.square(embedding), 1, keepdims=True), tf.float32)\n",
        "        cosine_sim_op = tf.matmul(x_embed_norm, embedding_norm, transpose_b=True)\n",
        "        return cosine_sim_op\n",
        "\n",
        "# Define the optimizer.\n",
        "optimizer = tf.train.GradientDescentOptimizer(learning_rate)"
      ],
      "execution_count": 0,
      "outputs": []
    },
    {
      "cell_type": "code",
      "metadata": {
        "id": "D9_JLaFj_bsG",
        "colab_type": "code",
        "colab": {}
      },
      "source": [
        "# Optimization process. \n",
        "def run_optimization(x, y):\n",
        "    with tf.device('/cpu:0'):\n",
        "        # Wrap computation inside a GradientTape for automatic differentiation.\n",
        "        with tf.GradientTape() as g:\n",
        "            emb = get_embedding(x)\n",
        "            loss = nce_loss(emb, y)\n",
        "\n",
        "        # Compute gradients.\n",
        "        gradients = g.gradient(loss, [embedding, nce_weights, nce_biases])\n",
        "\n",
        "        # Update W and b following gradients.\n",
        "        optimizer.apply_gradients(zip(gradients, [embedding, nce_weights, nce_biases]))"
      ],
      "execution_count": 0,
      "outputs": []
    },
    {
      "cell_type": "code",
      "metadata": {
        "scrolled": false,
        "id": "mygTY3LE_bsQ",
        "colab_type": "code",
        "outputId": "633ba108-646d-45bb-b8cc-5cd211e7e6ef",
        "colab": {
          "base_uri": "https://localhost:8080/",
          "height": 321
        }
      },
      "source": [
        "# Words for testing.\n",
        "x_test = np.array([word2id[w] for w in eval_words])\n",
        "\n",
        "# Run training for the given number of steps.\n",
        "for step in xrange(1, num_steps + 1):\n",
        "    batch_x, batch_y = next_batch(batch_size, num_skips, skip_window)\n",
        "    run_optimization(batch_x, batch_y)\n",
        "    \n",
        "    if step % display_step == 0 or step == 1:\n",
        "        loss = nce_loss(get_embedding(batch_x), batch_y)\n",
        "        print(\"step: %i, loss: %f\" % (step, loss))\n",
        "        \n",
        "    # Evaluation.\n",
        "    if step % eval_step == 0 or step == 1:\n",
        "        print(\"Evaluation...\")\n",
        "        sim = evaluate(get_embedding(x_test)).numpy()\n",
        "        for i in xrange(len(eval_words)):\n",
        "            top_k = 8  # number of nearest neighbors.\n",
        "            nearest = (-sim[i, :]).argsort()[1:top_k + 1]\n",
        "            log_str = '\"%s\" nearest neighbors:' % eval_words[i]\n",
        "            for k in xrange(top_k):\n",
        "                log_str = '%s %s,' % (log_str, id2word[nearest[k]])\n",
        "            print(log_str)"
      ],
      "execution_count": 0,
      "outputs": [
        {
          "output_type": "stream",
          "text": [
            "WARNING: Logging before flag parsing goes to stderr.\n",
            "W1217 04:15:55.064657 140663876433792 deprecation.py:323] From /usr/local/lib/python2.7/dist-packages/tensorflow_core/python/ops/nn_impl.py:183: where (from tensorflow.python.ops.array_ops) is deprecated and will be removed in a future version.\n",
            "Instructions for updating:\n",
            "Use tf.where in 2.0, which has the same broadcast rule as np.where\n"
          ],
          "name": "stderr"
        },
        {
          "output_type": "stream",
          "text": [
            "step: 1, loss: 537.440063\n",
            "Evaluation...\n",
            "\"five\" nearest neighbors: directional, salads, wilton, abdal, presently, murmansk, percent, hugh,\n",
            "\"of\" nearest neighbors: baton, clin, inverted, boleyn, stock, parting, lawyers, shearer,\n",
            "\"going\" nearest neighbors: suzuki, carry, malays, indic, stwertka, squandered, sophist, lleida,\n",
            "\"hardware\" nearest neighbors: porto, humanists, chickasaw, greatly, royalty, freedom, devote, headstock,\n",
            "\"american\" nearest neighbors: mogul, poset, baryon, being, balinese, padma, sounding, solitary,\n",
            "\"britain\" nearest neighbors: nox, bachchan, compresses, prd, intercity, endpoints, charisma, stray,\n",
            "step: 10000, loss: 97.202972\n",
            "step: 20000, loss: 94.577667\n",
            "step: 30000, loss: 46.737236\n",
            "step: 40000, loss: 23.895531\n"
          ],
          "name": "stdout"
        }
      ]
    }
  ]
}