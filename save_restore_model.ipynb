{
  "nbformat": 4,
  "nbformat_minor": 0,
  "metadata": {
    "kernelspec": {
      "display_name": "Python 2",
      "language": "python",
      "name": "python2"
    },
    "language_info": {
      "codemirror_mode": {
        "name": "ipython",
        "version": 2
      },
      "file_extension": ".py",
      "mimetype": "text/x-python",
      "name": "python",
      "nbconvert_exporter": "python",
      "pygments_lexer": "ipython2",
      "version": "2.7.15"
    },
    "colab": {
      "name": "save_restore_model.ipynb",
      "provenance": [],
      "collapsed_sections": [],
      "include_colab_link": true
    }
  },
  "cells": [
    {
      "cell_type": "markdown",
      "metadata": {
        "id": "view-in-github",
        "colab_type": "text"
      },
      "source": [
        "<a href=\"https://colab.research.google.com/github/ammarhusain/colab-sandbox/blob/master/save_restore_model.ipynb\" target=\"_parent\"><img src=\"https://colab.research.google.com/assets/colab-badge.svg\" alt=\"Open In Colab\"/></a>"
      ]
    },
    {
      "cell_type": "markdown",
      "metadata": {
        "id": "YqsLlOKuzVKH",
        "colab_type": "text"
      },
      "source": [
        "# Save & Restore a Model\n",
        "\n",
        "Save and Restore a model using TensorFlow v2. In this example, we will go over both low and high-level approaches: \n",
        "- Low-level: TF Checkpoint.\n",
        "- High-level: TF Module/Model saver.\n",
        "\n",
        "This example is using the MNIST database of handwritten digits as toy dataset\n",
        "(http://yann.lecun.com/exdb/mnist/).\n"
      ]
    },
    {
      "cell_type": "code",
      "metadata": {
        "id": "gNjd4DuqzVKO",
        "colab_type": "code",
        "colab": {}
      },
      "source": [
        "from __future__ import absolute_import, division, print_function\n",
        "\n",
        "import tensorflow as tf\n",
        "import numpy as np\n",
        "tf.enable_eager_execution()"
      ],
      "execution_count": 0,
      "outputs": []
    },
    {
      "cell_type": "code",
      "metadata": {
        "id": "Ns2zT21HzVKX",
        "colab_type": "code",
        "colab": {}
      },
      "source": [
        "# MNIST dataset parameters.\n",
        "num_classes = 10 # 0 to 9 digits\n",
        "num_features = 784 # 28*28\n",
        "\n",
        "# Training parameters.\n",
        "learning_rate = 0.01\n",
        "training_steps = 1000\n",
        "batch_size = 256\n",
        "display_step = 50"
      ],
      "execution_count": 0,
      "outputs": []
    },
    {
      "cell_type": "code",
      "metadata": {
        "id": "50GHgET-zVKd",
        "colab_type": "code",
        "colab": {}
      },
      "source": [
        "# Prepare MNIST data.\n",
        "from tensorflow.keras.datasets import mnist\n",
        "(x_train, y_train), (x_test, y_test) = mnist.load_data()\n",
        "# Convert to float32.\n",
        "x_train, x_test = np.array(x_train, np.float32), np.array(x_test, np.float32)\n",
        "# Flatten images to 1-D vector of 784 features (28*28).\n",
        "x_train, x_test = x_train.reshape([-1, num_features]), x_test.reshape([-1, num_features])\n",
        "# Normalize images value from [0, 255] to [0, 1].\n",
        "x_train, x_test = x_train / 255., x_test / 255."
      ],
      "execution_count": 0,
      "outputs": []
    },
    {
      "cell_type": "code",
      "metadata": {
        "id": "VY1BkIAgzVKi",
        "colab_type": "code",
        "colab": {}
      },
      "source": [
        "# Use tf.data API to shuffle and batch data.\n",
        "train_data = tf.data.Dataset.from_tensor_slices((x_train, y_train))\n",
        "train_data = train_data.repeat().shuffle(5000).batch(batch_size).prefetch(1)"
      ],
      "execution_count": 0,
      "outputs": []
    },
    {
      "cell_type": "markdown",
      "metadata": {
        "id": "ooKjv4IyzVKm",
        "colab_type": "text"
      },
      "source": [
        "## 1) TF Checkpoint\n",
        "\n",
        "Basic logistic regression"
      ]
    },
    {
      "cell_type": "code",
      "metadata": {
        "id": "EIVciPfazVKo",
        "colab_type": "code",
        "colab": {}
      },
      "source": [
        "# Weight of shape [784, 10], the 28*28 image features, and total number of classes.\n",
        "W = tf.Variable(tf.random.normal([num_features, num_classes]), name=\"weight\")\n",
        "# Bias of shape [10], the total number of classes.\n",
        "b = tf.Variable(tf.zeros([num_classes]), name=\"bias\")\n",
        "\n",
        "# Logistic regression (Wx + b).\n",
        "def logistic_regression(x):\n",
        "    # Apply softmax to normalize the logits to a probability distribution.\n",
        "    return tf.nn.softmax(tf.matmul(x, W) + b)\n",
        "\n",
        "# Cross-Entropy loss function.\n",
        "def cross_entropy(y_pred, y_true):\n",
        "    # Encode label to a one hot vector.\n",
        "    y_true = tf.one_hot(y_true, depth=num_classes)\n",
        "    # Clip prediction values to avoid log(0) error.\n",
        "    y_pred = tf.clip_by_value(y_pred, 1e-9, 1.)\n",
        "    # Compute cross-entropy.\n",
        "    return tf.reduce_mean(-tf.reduce_sum(y_true * tf.math.log(y_pred)))\n",
        "\n",
        "# Accuracy metric.\n",
        "def accuracy(y_pred, y_true):\n",
        "    # Predicted class is the index of highest score in prediction vector (i.e. argmax).\n",
        "    correct_prediction = tf.equal(tf.argmax(y_pred, 1), tf.cast(y_true, tf.int64))\n",
        "    return tf.reduce_mean(tf.cast(correct_prediction, tf.float32))\n",
        "\n",
        "# Adam optimizer.\n",
        "optimizer = tf.train.AdamOptimizer(learning_rate)"
      ],
      "execution_count": 0,
      "outputs": []
    },
    {
      "cell_type": "code",
      "metadata": {
        "id": "2scA8UsDzVKs",
        "colab_type": "code",
        "colab": {}
      },
      "source": [
        "# Optimization process. \n",
        "def run_optimization(x, y):\n",
        "    # Wrap computation inside a GradientTape for automatic differentiation.\n",
        "    with tf.GradientTape() as g:\n",
        "        pred = logistic_regression(x)\n",
        "        loss = cross_entropy(pred, y)\n",
        "\n",
        "        # Compute gradients.\n",
        "        gradients = g.gradient(loss, [W, b])\n",
        "\n",
        "        # Update W and b following gradients.\n",
        "        optimizer.apply_gradients(zip(gradients, [W, b]))"
      ],
      "execution_count": 0,
      "outputs": []
    },
    {
      "cell_type": "code",
      "metadata": {
        "id": "E_ufhC5PzVKw",
        "colab_type": "code",
        "outputId": "5715ab29-73b0-40c4-9516-9b47558b7099",
        "colab": {
          "base_uri": "https://localhost:8080/",
          "height": 464
        }
      },
      "source": [
        "# Run training for the given number of steps.\n",
        "for step, (batch_x, batch_y) in enumerate(train_data.take(training_steps), 1):\n",
        "    # Run the optimization to update W and b values.\n",
        "    run_optimization(batch_x, batch_y)\n",
        "    \n",
        "    if step % display_step == 0:\n",
        "        pred = logistic_regression(batch_x)\n",
        "        loss = cross_entropy(pred, batch_y)\n",
        "        acc = accuracy(pred, batch_y)\n",
        "        print(\"step: %i, loss: %f, accuracy: %f\" % (step, loss, acc))"
      ],
      "execution_count": 7,
      "outputs": [
        {
          "output_type": "stream",
          "text": [
            "WARNING: Logging before flag parsing goes to stderr.\n",
            "W0129 01:01:20.338340 140486231103360 deprecation.py:323] From /usr/local/lib/python2.7/dist-packages/tensorflow_core/python/ops/math_grad.py:1394: where (from tensorflow.python.ops.array_ops) is deprecated and will be removed in a future version.\n",
            "Instructions for updating:\n",
            "Use tf.where in 2.0, which has the same broadcast rule as np.where\n"
          ],
          "name": "stderr"
        },
        {
          "output_type": "stream",
          "text": [
            "step: 50, loss: 609.707092, accuracy: 0.636719\n",
            "step: 100, loss: 365.773712, accuracy: 0.742188\n",
            "step: 150, loss: 254.895569, accuracy: 0.800781\n",
            "step: 200, loss: 177.209656, accuracy: 0.828125\n",
            "step: 250, loss: 166.842133, accuracy: 0.875000\n",
            "step: 300, loss: 205.821396, accuracy: 0.843750\n",
            "step: 350, loss: 185.642197, accuracy: 0.855469\n",
            "step: 400, loss: 187.432831, accuracy: 0.855469\n",
            "step: 450, loss: 103.237244, accuracy: 0.910156\n",
            "step: 500, loss: 105.639854, accuracy: 0.902344\n",
            "step: 550, loss: 148.338531, accuracy: 0.871094\n",
            "step: 600, loss: 118.066727, accuracy: 0.898438\n",
            "step: 650, loss: 103.633392, accuracy: 0.882812\n",
            "step: 700, loss: 118.955917, accuracy: 0.898438\n",
            "step: 750, loss: 156.309814, accuracy: 0.871094\n",
            "step: 800, loss: 114.063469, accuracy: 0.886719\n",
            "step: 850, loss: 140.037262, accuracy: 0.871094\n",
            "step: 900, loss: 101.334724, accuracy: 0.914062\n",
            "step: 950, loss: 80.693604, accuracy: 0.914062\n",
            "step: 1000, loss: 160.754852, accuracy: 0.871094\n"
          ],
          "name": "stdout"
        }
      ]
    },
    {
      "cell_type": "markdown",
      "metadata": {
        "id": "mMwfWgGJzVK2",
        "colab_type": "text"
      },
      "source": [
        "## Save and Load with TF Checkpoint"
      ]
    },
    {
      "cell_type": "code",
      "metadata": {
        "id": "QZi_57fkzVK3",
        "colab_type": "code",
        "colab": {}
      },
      "source": [
        "# Save weights and optimizer variables.\n",
        "# Create a dict of variables to save.\n",
        "vars_to_save = {\"W\": W, \"b\": b, \"optimizer\": optimizer}\n",
        "# TF Checkpoint, pass the dict as **kwargs.\n",
        "checkpoint = tf.train.Checkpoint(**vars_to_save)\n",
        "# TF CheckpointManager to manage saving parameters.\n",
        "saver = tf.train.CheckpointManager(\n",
        "      checkpoint, directory=\"./tf-example\", max_to_keep=5)"
      ],
      "execution_count": 0,
      "outputs": []
    },
    {
      "cell_type": "code",
      "metadata": {
        "id": "yAfL8SHwzVK7",
        "colab_type": "code",
        "outputId": "92eff49a-63db-44b5-80ac-a436f919afc2",
        "colab": {
          "base_uri": "https://localhost:8080/",
          "height": 35
        }
      },
      "source": [
        "# Save variables.\n",
        "saver.save()"
      ],
      "execution_count": 13,
      "outputs": [
        {
          "output_type": "execute_result",
          "data": {
            "text/plain": [
              "'./tf-example/ckpt-1'"
            ]
          },
          "metadata": {
            "tags": []
          },
          "execution_count": 13
        }
      ]
    },
    {
      "cell_type": "code",
      "metadata": {
        "id": "fG7wcTZVzVLA",
        "colab_type": "code",
        "outputId": "7404c5c4-8347-41e5-ad28-7b37bcabcb0b",
        "colab": {
          "base_uri": "https://localhost:8080/",
          "height": 35
        }
      },
      "source": [
        "# Check weight value.\n",
        "np.mean(W.numpy())"
      ],
      "execution_count": 14,
      "outputs": [
        {
          "output_type": "execute_result",
          "data": {
            "text/plain": [
              "-0.07799074"
            ]
          },
          "metadata": {
            "tags": []
          },
          "execution_count": 14
        }
      ]
    },
    {
      "cell_type": "code",
      "metadata": {
        "id": "gU4KL0ghzVLD",
        "colab_type": "code",
        "colab": {}
      },
      "source": [
        "# Reset variables to test restore.\n",
        "W = tf.Variable(tf.random.normal([num_features, num_classes]), name=\"weight\")\n",
        "b = tf.Variable(tf.zeros([num_classes]), name=\"bias\")"
      ],
      "execution_count": 0,
      "outputs": []
    },
    {
      "cell_type": "code",
      "metadata": {
        "id": "hsKZXaKxzVLH",
        "colab_type": "code",
        "outputId": "ab5bdbc8-adbd-470b-d87a-2ef34fb75b41",
        "colab": {
          "base_uri": "https://localhost:8080/",
          "height": 35
        }
      },
      "source": [
        "# Check resetted weight value.\n",
        "np.mean(W.numpy())"
      ],
      "execution_count": 16,
      "outputs": [
        {
          "output_type": "execute_result",
          "data": {
            "text/plain": [
              "-0.012396359"
            ]
          },
          "metadata": {
            "tags": []
          },
          "execution_count": 16
        }
      ]
    },
    {
      "cell_type": "code",
      "metadata": {
        "id": "hVYBoVmVzVLL",
        "colab_type": "code",
        "outputId": "67495240-bae1-4988-9e4d-27a8d2d47d27",
        "colab": {
          "base_uri": "https://localhost:8080/",
          "height": 35
        }
      },
      "source": [
        "# Set checkpoint to load data.\n",
        "vars_to_load = {\"W\": W, \"b\": b, \"optimizer\": optimizer}\n",
        "checkpoint = tf.train.Checkpoint(**vars_to_load)\n",
        "# Restore variables from latest checkpoint.\n",
        "latest_ckpt = tf.train.latest_checkpoint(\"./tf-example\")\n",
        "checkpoint.restore(latest_ckpt)"
      ],
      "execution_count": 17,
      "outputs": [
        {
          "output_type": "execute_result",
          "data": {
            "text/plain": [
              "<tensorflow.python.training.tracking.util.CheckpointLoadStatus at 0x7fc561615550>"
            ]
          },
          "metadata": {
            "tags": []
          },
          "execution_count": 17
        }
      ]
    },
    {
      "cell_type": "code",
      "metadata": {
        "id": "kBIbGf6tzVLO",
        "colab_type": "code",
        "outputId": "c365c363-bf2d-43e0-d9e0-902eacc6736a",
        "colab": {
          "base_uri": "https://localhost:8080/",
          "height": 35
        }
      },
      "source": [
        "# Confirm that W has been correctly restored.\n",
        "np.mean(W.numpy())"
      ],
      "execution_count": 18,
      "outputs": [
        {
          "output_type": "execute_result",
          "data": {
            "text/plain": [
              "-0.07799074"
            ]
          },
          "metadata": {
            "tags": []
          },
          "execution_count": 18
        }
      ]
    },
    {
      "cell_type": "markdown",
      "metadata": {
        "id": "rOkbzlD8zVLS",
        "colab_type": "text"
      },
      "source": [
        "## 2) TF Model\n",
        "\n",
        "Basic neural network with TF Model"
      ]
    },
    {
      "cell_type": "code",
      "metadata": {
        "id": "i57emapkzVLT",
        "colab_type": "code",
        "colab": {}
      },
      "source": [
        "from tensorflow.keras import Model, layers"
      ],
      "execution_count": 0,
      "outputs": []
    },
    {
      "cell_type": "code",
      "metadata": {
        "id": "nyoVBoMmzVLX",
        "colab_type": "code",
        "colab": {}
      },
      "source": [
        "# MNIST dataset parameters.\n",
        "num_classes = 10 # 0 to 9 digits\n",
        "num_features = 784 # 28*28\n",
        "\n",
        "# Training parameters.\n",
        "learning_rate = 0.01\n",
        "training_steps = 1000\n",
        "batch_size = 256\n",
        "display_step = 100"
      ],
      "execution_count": 0,
      "outputs": []
    },
    {
      "cell_type": "code",
      "metadata": {
        "id": "NixQ7xHNzVLa",
        "colab_type": "code",
        "colab": {}
      },
      "source": [
        "# Create TF Model.\n",
        "class NeuralNet(Model):\n",
        "    # Set layers.\n",
        "    def __init__(self):\n",
        "        super(NeuralNet, self).__init__(name=\"NeuralNet\")\n",
        "        # First fully-connected hidden layer.\n",
        "        self.fc1 = layers.Dense(64, activation=tf.nn.relu)\n",
        "        # Second fully-connected hidden layer.\n",
        "        self.fc2 = layers.Dense(128, activation=tf.nn.relu)\n",
        "        # Third fully-connecter hidden layer.\n",
        "        self.out = layers.Dense(num_classes, activation=tf.nn.softmax)\n",
        "\n",
        "    # Set forward pass.\n",
        "    def __call__(self, x, is_training=False):\n",
        "        x = self.fc1(x)\n",
        "        x = self.out(x)\n",
        "        if not is_training:\n",
        "            # tf cross entropy expect logits without softmax, so only\n",
        "            # apply softmax when not training.\n",
        "            x = tf.nn.softmax(x)\n",
        "        return x\n",
        "\n",
        "# Build neural network model.\n",
        "neural_net = NeuralNet()"
      ],
      "execution_count": 0,
      "outputs": []
    },
    {
      "cell_type": "code",
      "metadata": {
        "id": "OgMBWb_izVLf",
        "colab_type": "code",
        "colab": {}
      },
      "source": [
        "# Cross-Entropy loss function.\n",
        "def cross_entropy(y_pred, y_true):\n",
        "    y_true = tf.cast(y_true, tf.int64)\n",
        "    crossentropy = tf.nn.sparse_softmax_cross_entropy_with_logits(labels=y_true, logits=y_pred)\n",
        "    return tf.reduce_mean(crossentropy)\n",
        "\n",
        "# Accuracy metric.\n",
        "def accuracy(y_pred, y_true):\n",
        "    # Predicted class is the index of highest score in prediction vector (i.e. argmax).\n",
        "    correct_prediction = tf.equal(tf.argmax(y_pred, 1), tf.cast(y_true, tf.int64))\n",
        "    return tf.reduce_mean(tf.cast(correct_prediction, tf.float32))\n",
        "\n",
        "# Adam optimizer.\n",
        "optimizer = tf.train.AdamOptimizer(learning_rate)"
      ],
      "execution_count": 0,
      "outputs": []
    },
    {
      "cell_type": "code",
      "metadata": {
        "id": "xYwmHYvQzVLi",
        "colab_type": "code",
        "colab": {}
      },
      "source": [
        "# Optimization process. \n",
        "def run_optimization(x, y):\n",
        "    # Wrap computation inside a GradientTape for automatic differentiation.\n",
        "    with tf.GradientTape() as g:\n",
        "        pred = neural_net(x, is_training=True)\n",
        "        loss = cross_entropy(pred, y)\n",
        "\n",
        "        # Compute gradients.\n",
        "        gradients = g.gradient(loss, neural_net.trainable_variables)\n",
        "\n",
        "        # Update W and b following gradients.\n",
        "        optimizer.apply_gradients(zip(gradients, neural_net.trainable_variables))"
      ],
      "execution_count": 0,
      "outputs": []
    },
    {
      "cell_type": "code",
      "metadata": {
        "id": "LmWEfHm5zVLl",
        "colab_type": "code",
        "outputId": "5b2969b7-1abc-4af8-bba2-47f0aa2159ec",
        "colab": {
          "base_uri": "https://localhost:8080/",
          "height": 195
        }
      },
      "source": [
        "# Run training for the given number of steps.\n",
        "for step, (batch_x, batch_y) in enumerate(train_data.take(training_steps), 1):\n",
        "    # Run the optimization to update W and b values.\n",
        "    run_optimization(batch_x, batch_y)\n",
        "    \n",
        "    if step % display_step == 0:\n",
        "        pred = neural_net(batch_x, is_training=False)\n",
        "        loss = cross_entropy(pred, batch_y)\n",
        "        acc = accuracy(pred, batch_y)\n",
        "        print(\"step: %i, loss: %f, accuracy: %f\" % (step, loss, acc))"
      ],
      "execution_count": 25,
      "outputs": [
        {
          "output_type": "stream",
          "text": [
            "step: 100, loss: 2.186938, accuracy: 0.917969\n",
            "step: 200, loss: 2.180615, accuracy: 0.957031\n",
            "step: 300, loss: 2.180062, accuracy: 0.957031\n",
            "step: 400, loss: 2.181459, accuracy: 0.941406\n",
            "step: 500, loss: 2.179266, accuracy: 0.953125\n",
            "step: 600, loss: 2.180261, accuracy: 0.941406\n",
            "step: 700, loss: 2.176317, accuracy: 0.968750\n",
            "step: 800, loss: 2.176529, accuracy: 0.968750\n",
            "step: 900, loss: 2.176332, accuracy: 0.972656\n",
            "step: 1000, loss: 2.180584, accuracy: 0.941406\n"
          ],
          "name": "stdout"
        }
      ]
    },
    {
      "cell_type": "markdown",
      "metadata": {
        "id": "0uVg4g_lzVLp",
        "colab_type": "text"
      },
      "source": [
        "## Save and Load with TF Model"
      ]
    },
    {
      "cell_type": "code",
      "metadata": {
        "id": "_64i6WxQzVLq",
        "colab_type": "code",
        "colab": {}
      },
      "source": [
        "# Save TF model.\n",
        "neural_net.save_weights(filepath=\"./tfmodel.ckpt\")"
      ],
      "execution_count": 0,
      "outputs": []
    },
    {
      "cell_type": "code",
      "metadata": {
        "id": "EX367eLjzVLu",
        "colab_type": "code",
        "outputId": "559162aa-151a-43f5-f9ac-8359fa841d46",
        "colab": {
          "base_uri": "https://localhost:8080/",
          "height": 35
        }
      },
      "source": [
        "# Re-build neural network model with default values.\n",
        "neural_net = NeuralNet()\n",
        "# Test model performance.\n",
        "pred = neural_net(batch_x)\n",
        "print(\"accuracy: %f\" % accuracy(pred, batch_y))"
      ],
      "execution_count": 29,
      "outputs": [
        {
          "output_type": "stream",
          "text": [
            "accuracy: 0.085938\n"
          ],
          "name": "stdout"
        }
      ]
    },
    {
      "cell_type": "code",
      "metadata": {
        "id": "V00mFsUGzVLx",
        "colab_type": "code",
        "outputId": "41d81bf3-b690-4c7c-dd06-f00b235ee9b1",
        "colab": {
          "base_uri": "https://localhost:8080/",
          "height": 35
        }
      },
      "source": [
        "# Load saved weights.\n",
        "neural_net.load_weights(filepath=\"./tfmodel.ckpt\")"
      ],
      "execution_count": 33,
      "outputs": [
        {
          "output_type": "execute_result",
          "data": {
            "text/plain": [
              "<tensorflow.python.training.tracking.util.CheckpointLoadStatus at 0x7fc51159d590>"
            ]
          },
          "metadata": {
            "tags": []
          },
          "execution_count": 33
        }
      ]
    },
    {
      "cell_type": "code",
      "metadata": {
        "id": "Gn-CMXjNzVL0",
        "colab_type": "code",
        "outputId": "631b45be-944a-43b9-d66f-e295d2e6e881",
        "colab": {
          "base_uri": "https://localhost:8080/",
          "height": 35
        }
      },
      "source": [
        "# Test that weights loaded correctly.\n",
        "pred = neural_net(batch_x)\n",
        "print(\"accuracy: %f\" % accuracy(pred, batch_y))"
      ],
      "execution_count": 34,
      "outputs": [
        {
          "output_type": "stream",
          "text": [
            "accuracy: 0.941406\n"
          ],
          "name": "stdout"
        }
      ]
    }
  ]
}